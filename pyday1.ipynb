{
  "nbformat": 4,
  "nbformat_minor": 0,
  "metadata": {
    "colab": {
      "provenance": [],
      "authorship_tag": "ABX9TyPeGQGX875ug2505ko10+T4",
      "include_colab_link": true
    },
    "kernelspec": {
      "name": "python3",
      "display_name": "Python 3"
    },
    "language_info": {
      "name": "python"
    }
  },
  "cells": [
    {
      "cell_type": "markdown",
      "metadata": {
        "id": "view-in-github",
        "colab_type": "text"
      },
      "source": [
        "<a href=\"https://colab.research.google.com/github/Slkandu/py/blob/main/pyday1.ipynb\" target=\"_parent\"><img src=\"https://colab.research.google.com/assets/colab-badge.svg\" alt=\"Open In Colab\"/></a>"
      ]
    },
    {
      "cell_type": "code",
      "execution_count": null,
      "metadata": {
        "colab": {
          "base_uri": "https://localhost:8080/"
        },
        "id": "XKk7u5wIZyo8",
        "outputId": "d7b5a5ea-9ddd-400c-db38-67d152aec571"
      },
      "outputs": [
        {
          "name": "stdout",
          "output_type": "stream",
          "text": [
            "Hi please give the input:ay1 y\n"
          ]
        }
      ],
      "source": [
        "var1 = input(\"Hi please give the input:\")"
      ]
    },
    {
      "cell_type": "code",
      "source": [
        "# Input Data\n",
        "variable_name = input(\"Enter your input:\")"
      ],
      "metadata": {
        "colab": {
          "base_uri": "https://localhost:8080/"
        },
        "id": "lxOPZ5OSZ2qf",
        "outputId": "05071879-6aeb-43f5-b3ad-bfb0ef068e30"
      },
      "execution_count": null,
      "outputs": [
        {
          "name": "stdout",
          "output_type": "stream",
          "text": [
            "Enter your input:k likhitha\n"
          ]
        }
      ]
    },
    {
      "cell_type": "code",
      "source": [
        "print(\"Value is :\",variable_name, \".\" )"
      ],
      "metadata": {
        "colab": {
          "base_uri": "https://localhost:8080/"
        },
        "id": "SDbji9dIZ_l3",
        "outputId": "3a55649e-9390-4cd4-ceff-60614b855541"
      },
      "execution_count": null,
      "outputs": [
        {
          "output_type": "stream",
          "name": "stdout",
          "text": [
            "Value is : k likhitha .\n"
          ]
        }
      ]
    },
    {
      "cell_type": "code",
      "source": [
        "Cost = 100\n",
        "cost = 100.5\n",
        "print(\"Cost with Capital C:\",Cost)\n",
        "print(\"Cost with c:\",cost)"
      ],
      "metadata": {
        "colab": {
          "base_uri": "https://localhost:8080/"
        },
        "id": "5j-Qc_dcaFip",
        "outputId": "6f459d8e-3ca4-4ed7-bd6e-816d493647f0"
      },
      "execution_count": null,
      "outputs": [
        {
          "output_type": "stream",
          "name": "stdout",
          "text": [
            "Cost with Capital C: 100\n",
            "Cost with c: 100.5\n"
          ]
        }
      ]
    },
    {
      "cell_type": "code",
      "source": [
        "cost1 = 100.99\n",
        "_cost = 100\n",
        "#1cost = 100"
      ],
      "metadata": {
        "id": "Q8FUEVomaOak"
      },
      "execution_count": null,
      "outputs": []
    },
    {
      "cell_type": "code",
      "source": [
        "print(cost1)"
      ],
      "metadata": {
        "colab": {
          "base_uri": "https://localhost:8080/"
        },
        "id": "vEfakaqIaSgX",
        "outputId": "9c663892-3811-4701-852a-83180ff53c42"
      },
      "execution_count": null,
      "outputs": [
        {
          "output_type": "stream",
          "name": "stdout",
          "text": [
            "100.99\n"
          ]
        }
      ]
    },
    {
      "cell_type": "code",
      "source": [
        "x = 12\n",
        "y = 11\n",
        "\n",
        "# x = 12.3\n",
        "# y = 11.2\n",
        "print(x,y)\n",
        "\n",
        "z= x + y\n",
        "\n",
        "#Basic Operations\n",
        "print(\"Add x and y is:\",z)\n",
        "print(\"Add x and y is:\",(x+y))\n",
        "print(\"Subtraction x and y is:\",(x-y))\n",
        "print(\"Multiplication x and y is:\",(x*y))\n",
        "print(\"Division x and y is:\",(x/y))\n",
        "print(\"Modulus x and y is:\",(x%y))\n",
        "print(\"Power x to y is:\",(x**y))"
      ],
      "metadata": {
        "colab": {
          "base_uri": "https://localhost:8080/"
        },
        "id": "wf83SN2IaW5j",
        "outputId": "d6298ce5-c159-4aee-c45b-091c7f1147bf"
      },
      "execution_count": null,
      "outputs": [
        {
          "output_type": "stream",
          "name": "stdout",
          "text": [
            "12 11\n",
            "Add x and y is: 23\n",
            "Add x and y is: 23\n",
            "Subtraction x and y is: 1\n",
            "Multiplication x and y is: 132\n",
            "Division x and y is: 1.0909090909090908\n",
            "Modulus x and y is: 1\n",
            "Power x to y is: 743008370688\n"
          ]
        }
      ]
    },
    {
      "cell_type": "code",
      "source": [
        "x = 1\n",
        "y = 2\n",
        "w,z = 1,2\n",
        "\n",
        "a = True\n",
        "b = False\n",
        "\n",
        "# Basic Operations\n",
        "print('x==y : ',x==y)\n",
        "print('y==z : ',y==z)\n",
        "print('y>=z : ',y>=z)\n",
        "print('y<=z : ',y<=z)\n",
        "print('y!=z : ',y!=z)\n",
        "\n",
        "print('a and b : ', a and b)\n",
        "print('a or b : ', a or b)\n",
        "print('not of a : ', not a)"
      ],
      "metadata": {
        "colab": {
          "base_uri": "https://localhost:8080/"
        },
        "id": "JS3PZcE8afcc",
        "outputId": "a5f8e1fd-32e2-4712-bfbe-0081b508236f"
      },
      "execution_count": null,
      "outputs": [
        {
          "output_type": "stream",
          "name": "stdout",
          "text": [
            "x==y :  False\n",
            "y==z :  True\n",
            "y>=z :  True\n",
            "y<=z :  True\n",
            "y!=z :  False\n",
            "a and b :  False\n",
            "a or b :  True\n",
            "not of a :  False\n"
          ]
        }
      ]
    },
    {
      "cell_type": "code",
      "source": [
        "s1 = 'Hi this is a string data'\n",
        "\n",
        "# Basic Operations\n",
        "\n",
        "print(\"Initial String: \",s1)\n",
        "print(\"First 2 chars String: \",s1[:2])\n",
        "print(\"last 3 chars String: \",s1[-3:])\n",
        "print(\"Substring from 4th until 8th char String: \",s1[3:7])\n",
        "print(\"Upper case: \",s1.upper())\n",
        "print(\"Lower case: \",s1.lower())\n",
        "print(\"Replace substring: \",s1.replace(' ','_'))\n",
        "print(\"Length: \",len(s1))\n",
        "print(\"Contains substring Hi: \",(\"Hi\" in s1))\n",
        "print(\"Concat substring User: \",(s1 + \" User\"))"
      ],
      "metadata": {
        "colab": {
          "base_uri": "https://localhost:8080/"
        },
        "id": "ubzBe-_laj-3",
        "outputId": "438b48fc-ad97-489d-89db-03a5d8657f7c"
      },
      "execution_count": null,
      "outputs": [
        {
          "output_type": "stream",
          "name": "stdout",
          "text": [
            "Initial String:  Hi this is a string data\n",
            "First 2 chars String:  Hi\n",
            "last 3 chars String:  ata\n",
            "Substring from 4th until 8th char String:  this\n",
            "Upper case:  HI THIS IS A STRING DATA\n",
            "Lower case:  hi this is a string data\n",
            "Replace substring:  Hi_this_is_a_string_data\n",
            "Length:  24\n",
            "Contains substring Hi:  True\n",
            "Concat substring User:  Hi this is a string data User\n"
          ]
        }
      ]
    },
    {
      "cell_type": "code",
      "source": [
        "l1 =[100,200,250,300,350]"
      ],
      "metadata": {
        "id": "-F6k63myawWW"
      },
      "execution_count": null,
      "outputs": []
    },
    {
      "cell_type": "code",
      "source": [
        "# Syntax\n",
        "# list [] or li =[]\n",
        "l1 =[100,200,250,300,350]\n",
        "print(\"Initial list: \",l1)\n",
        "\n",
        "# Length\n",
        "len1 = len(l1)\n",
        "print(\"Length of Initial list: \",len1)\n",
        "\n",
        "# Access\n",
        "print(\"1st element of list: \",l1[0])\n",
        "print(\"From 2nd to 3th element of list: \",l1[1:3])\n",
        "print(\"Last element of list: \",l1[-1])\n",
        "\n",
        "# Adding elements\n",
        "# 1. Append elements\n",
        "l1.append(10)\n",
        "print(\"Append 10 to the list: \",l1)\n",
        "\n",
        "# 2. Insert elements\n",
        "l1.insert(1,50)\n",
        "print(\"Insert 50 at pos. 1: \",l1)\n",
        "\n",
        "# 3. Concatenation elements\n",
        "l1 = l1 + [11,12]\n",
        "print(\"Concatenate 2 lists: \",l1)\n",
        "\n",
        "# removing elements\n",
        "l1.remove(300)\n",
        "print(\"Removed 300 from list:\",l1)\n",
        "\n",
        "# sort elements\n",
        "l1.sort()\n",
        "print(\"Sorted List: \",l1)\n",
        "\n",
        "# Contains element\n",
        "print(\"Whether list contains 10:\",(10 in l1))\n",
        "\n"
      ],
      "metadata": {
        "colab": {
          "base_uri": "https://localhost:8080/"
        },
        "id": "s98VvDMea1Qw",
        "outputId": "de517f4b-baa6-430f-8fad-3d29cdc1f699"
      },
      "execution_count": null,
      "outputs": [
        {
          "output_type": "stream",
          "name": "stdout",
          "text": [
            "Initial list:  [100, 200, 250, 300, 350]\n",
            "Length of Initial list:  5\n",
            "1st element of list:  100\n",
            "From 2nd to 3th element of list:  [200, 250]\n",
            "Last element of list:  350\n",
            "Append 10 to the list:  [100, 200, 250, 300, 350, 10]\n",
            "Insert 50 at pos. 1:  [100, 50, 200, 250, 300, 350, 10]\n",
            "Concatenate 2 lists:  [100, 50, 200, 250, 300, 350, 10, 11, 12]\n",
            "Removed 300 from list: [100, 50, 200, 250, 350, 10, 11, 12]\n",
            "Sorted List:  [10, 11, 12, 50, 100, 200, 250, 350]\n",
            "Whether list contains 10: True\n"
          ]
        }
      ]
    },
    {
      "cell_type": "code",
      "source": [
        "# Syntax\n",
        "# set1 = {} or set1 = {[]} or set(list)\n",
        "set1 = {\"Patient 1\",\"Patient 2\",\"Patient 3\",\"Patient 4\"}\n",
        "print(\"Initial Set:\",set1)\n",
        "\n",
        "print(\"Length of Initial Set:\",len(set1))\n",
        "\n",
        "# Unique elements in a list\n",
        "list1 = [\"Patient 1\",\"Patient 2\",\"Patient 3\",\n",
        "          \"Patient 2\",\"Patient 3\",\n",
        "         \"Patient 1\",\"Patient 2\"]\n",
        "set2 = set(list1)\n",
        "print(\"Unique elements of list:\",set2)\n",
        "\n",
        "# Subtract 2 sets\n",
        "\n",
        "set3 = set1 - set2\n",
        "print(\"Difference between 2 sets:\",set3)"
      ],
      "metadata": {
        "colab": {
          "base_uri": "https://localhost:8080/"
        },
        "id": "zlK4qgcca74d",
        "outputId": "a1ffe341-a971-43d2-c0d8-7fa1ec4692fc"
      },
      "execution_count": null,
      "outputs": [
        {
          "output_type": "stream",
          "name": "stdout",
          "text": [
            "Initial Set: {'Patient 4', 'Patient 2', 'Patient 3', 'Patient 1'}\n",
            "Length of Initial Set: 4\n",
            "Unique elements of list: {'Patient 3', 'Patient 2', 'Patient 1'}\n",
            "Difference between 2 sets: {'Patient 4'}\n"
          ]
        }
      ]
    },
    {
      "cell_type": "code",
      "source": [
        "# Syntax\n",
        "# dict1 = {\"\":\"\",\"\":\"\"}\n",
        "\n",
        "dict_age = {\"Patient 1\":20,\n",
        "              \"Patient 2\": 25,\n",
        "              \"Patient 3\":28}\n",
        "\n",
        "# Access keys\n",
        "print(\"Keys are:\",dict_age.keys())\n",
        "\n",
        "# Access values\n",
        "print(\"Values are:\",dict_age.values())\n",
        "\n",
        "# Access value based on key\n",
        "print(\"Age of Patient 1 is:\",dict_age['Patient 1'])"
      ],
      "metadata": {
        "colab": {
          "base_uri": "https://localhost:8080/"
        },
        "id": "ruGELSzAbBpR",
        "outputId": "dedaed8a-fe6e-41d9-f943-ede879868119"
      },
      "execution_count": null,
      "outputs": [
        {
          "output_type": "stream",
          "name": "stdout",
          "text": [
            "Keys are: dict_keys(['Patient 1', 'Patient 2', 'Patient 3'])\n",
            "Values are: dict_values([20, 25, 28])\n",
            "Age of Patient 1 is: 20\n"
          ]
        }
      ]
    },
    {
      "cell_type": "code",
      "source": [
        "\n",
        "# Example of If, Elif and Else\n",
        "\n",
        "var_age = 10\n",
        "if var_age > 18:\n",
        "  print(\"Greater than 18\")\n",
        "\n",
        "elif var_age == 18:\n",
        "  print(\"Equal to 18\")\n",
        "\n",
        "else:\n",
        "  print(\"Less than 18\")\n"
      ],
      "metadata": {
        "colab": {
          "base_uri": "https://localhost:8080/"
        },
        "id": "K3wQ5FcWbE8a",
        "outputId": "1da0371b-6524-46cc-ef46-dd716354dd35"
      },
      "execution_count": null,
      "outputs": [
        {
          "output_type": "stream",
          "name": "stdout",
          "text": [
            "Less than 18\n"
          ]
        }
      ]
    },
    {
      "cell_type": "code",
      "source": [
        "# For loop Example\n",
        "\n",
        "# Syntax\n",
        "# for i in seq:\n",
        "    # Block of code\n",
        "\n",
        "# while Condition:\n",
        "    # Block of code\n",
        "\n",
        "\n",
        "var_patient = [\"Patient 1\",\"Patient 2\",\"Patient 3\",\"Patient 4\"]\n",
        "var_age = [20,30,40,50]\n",
        "\n",
        "for var in var_patient:\n",
        "  print(\"Hi welcome to the hospital:\",var)\n",
        "\n",
        "\n",
        "# For loop with if condition\n",
        "\n",
        "count = 0\n",
        "for var in var_age:\n",
        "  if var < 30:\n",
        "    count = count + 1\n",
        "\n",
        "print(\"Number of patients with age less than 30:\",count)\n",
        "\n",
        "\n",
        "# While loop\n",
        "\n",
        "num_medicine = 10\n",
        "while num_medicine > 0:\n",
        "  num_medicine = num_medicine - 1\n",
        "  print(\"Number of medicine left:\",num_medicine)"
      ],
      "metadata": {
        "colab": {
          "base_uri": "https://localhost:8080/"
        },
        "id": "_v-gIMtBbPlu",
        "outputId": "aa121792-6e47-4165-8dab-901c84bedd24"
      },
      "execution_count": null,
      "outputs": [
        {
          "output_type": "stream",
          "name": "stdout",
          "text": [
            "Hi welcome to the hospital: Patient 1\n",
            "Hi welcome to the hospital: Patient 2\n",
            "Hi welcome to the hospital: Patient 3\n",
            "Hi welcome to the hospital: Patient 4\n",
            "Number of patients with age less than 30: 1\n",
            "Number of medicine left: 9\n",
            "Number of medicine left: 8\n",
            "Number of medicine left: 7\n",
            "Number of medicine left: 6\n",
            "Number of medicine left: 5\n",
            "Number of medicine left: 4\n",
            "Number of medicine left: 3\n",
            "Number of medicine left: 2\n",
            "Number of medicine left: 1\n",
            "Number of medicine left: 0\n"
          ]
        }
      ]
    },
    {
      "cell_type": "code",
      "source": [
        "for i in range(2,6,3):\n",
        "  print(i)"
      ],
      "metadata": {
        "colab": {
          "base_uri": "https://localhost:8080/"
        },
        "id": "3p0ORuENbTo9",
        "outputId": "daa518f3-8f4d-4c21-edd1-124a1c862816"
      },
      "execution_count": null,
      "outputs": [
        {
          "output_type": "stream",
          "name": "stdout",
          "text": [
            "2\n",
            "5\n"
          ]
        }
      ]
    },
    {
      "cell_type": "code",
      "source": [
        "# Break Statement Example\n",
        "num = [\"Patient 1\",\"Patient 2\",\"Patient 3\",\"Patient 4\"]\n",
        "for var in num:\n",
        "  if var == \"Patient 3\":\n",
        "    print(\"Found Patient 3\")\n",
        "    break\n",
        "  else:\n",
        "    print(\"Did not find Patient 3\")"
      ],
      "metadata": {
        "colab": {
          "base_uri": "https://localhost:8080/"
        },
        "id": "3LTEyjFKbX7x",
        "outputId": "7de99b76-489b-4d4f-d2c6-4659b376f904"
      },
      "execution_count": null,
      "outputs": [
        {
          "output_type": "stream",
          "name": "stdout",
          "text": [
            "Did not find Patient 3\n",
            "Did not find Patient 3\n",
            "Found Patient 3\n"
          ]
        }
      ]
    },
    {
      "cell_type": "code",
      "source": [
        "# Continue Statement Example\n",
        "var_bp = [120, 130, 110, 140, 115, 150, 125,155,160]\n",
        "\n",
        "for var in var_bp:\n",
        "  if var < 130:\n",
        "    continue\n",
        "  print(\"High Bp Value(mmHg):\",var)"
      ],
      "metadata": {
        "colab": {
          "base_uri": "https://localhost:8080/"
        },
        "id": "GlpsX-3Abep2",
        "outputId": "69e8f591-74ad-4436-fa10-17906fe31f83"
      },
      "execution_count": null,
      "outputs": [
        {
          "output_type": "stream",
          "name": "stdout",
          "text": [
            "High Bp Value(mmHg): 130\n",
            "High Bp Value(mmHg): 140\n",
            "High Bp Value(mmHg): 150\n",
            "High Bp Value(mmHg): 155\n",
            "High Bp Value(mmHg): 160\n"
          ]
        }
      ]
    },
    {
      "cell_type": "code",
      "source": [
        "var_patient = [\"Patient 1\",\"Patient 2\",\"Patient 3\",\"Patient 4\"]\n",
        "var_age = [20,30,40,50]\n",
        "var_weight = [30.5,30,40.5,50.5]\n",
        "\n",
        "\n",
        "for num1,num2,num3 in zip(var_patient,var_age,var_weight):\n",
        "  #print(\"Patient ID is:\", num1, \"and age is:\", num2, \"and weight is: \",num3)\n",
        "\n",
        "  print(f\"Patient ID is: {num1} and age is: {num2} and weight is {num3}\")"
      ],
      "metadata": {
        "colab": {
          "base_uri": "https://localhost:8080/"
        },
        "id": "IZ8Ptel5biLY",
        "outputId": "a3ce96a0-18d7-401f-e869-261d7ae920b5"
      },
      "execution_count": null,
      "outputs": [
        {
          "output_type": "stream",
          "name": "stdout",
          "text": [
            "Patient ID is: Patient 1 and age is: 20 and weight is 30.5\n",
            "Patient ID is: Patient 2 and age is: 30 and weight is 30\n",
            "Patient ID is: Patient 3 and age is: 40 and weight is 40.5\n",
            "Patient ID is: Patient 4 and age is: 50 and weight is 50.5\n"
          ]
        }
      ]
    },
    {
      "cell_type": "code",
      "source": [
        "i = 1\n",
        "print(f\"THe value of i is {i}\")"
      ],
      "metadata": {
        "colab": {
          "base_uri": "https://localhost:8080/"
        },
        "id": "aN8RlMiHbm5c",
        "outputId": "a85c3fc4-7e20-4367-bad6-2e9a65843011"
      },
      "execution_count": null,
      "outputs": [
        {
          "output_type": "stream",
          "name": "stdout",
          "text": [
            "THe value of i is 1\n"
          ]
        }
      ]
    },
    {
      "cell_type": "code",
      "source": [
        "def fn_add(a,b):\n",
        "  c = a+b\n",
        "  return c\n",
        "\n",
        "var_sum = fn_add(2,3)\n",
        "\n",
        "print(\"Addition of 2 numbers is:\",var_sum)\n",
        "\n",
        "fn_add(10,3)"
      ],
      "metadata": {
        "colab": {
          "base_uri": "https://localhost:8080/"
        },
        "id": "bhpUrcisbq8B",
        "outputId": "f80de996-882f-4b1b-bc48-11e1deb2b416"
      },
      "execution_count": null,
      "outputs": [
        {
          "output_type": "stream",
          "name": "stdout",
          "text": [
            "Addition of 2 numbers is: 5\n"
          ]
        },
        {
          "output_type": "execute_result",
          "data": {
            "text/plain": [
              "13"
            ]
          },
          "metadata": {},
          "execution_count": 24
        }
      ]
    },
    {
      "cell_type": "code",
      "source": [
        "# Example\n",
        "\n",
        "# Syntax\n",
        "# def function_name(parameters):\n",
        "#     Block of code\n",
        "#\n",
        "# function_name(arguments)\n",
        "\n",
        "\n",
        "def greet(name,age,gender):\n",
        "  print(f\"Hi, Welcome to hospital:{name}\")\n",
        "  print(f\"Age: {age}\")\n",
        "  print(f\"Gender: {gender}\")\n",
        "\n",
        "greet(\"Patient1\",12,\"Female\")\n",
        "\n",
        "greet(\"Patient2\",50,\"Male\")\n",
        "\n",
        "\n",
        "# Function with Return Values\n",
        "\n",
        "def sub(a,b=10):\n",
        "      c = a-b\n",
        "      return c\n",
        "\n",
        "sub_var = sub(2,1)\n",
        "sub_var_default = sub(2)\n",
        "print(\"Subtraction of 2 and 1 is:\",sub_var)\n",
        "print(\"Subtraction of 2 with default is :\",sub_var_default)"
      ],
      "metadata": {
        "colab": {
          "base_uri": "https://localhost:8080/"
        },
        "id": "yR6wvRiub8fB",
        "outputId": "9084d1d6-d0c8-4cea-d280-e31eee22c00f"
      },
      "execution_count": null,
      "outputs": [
        {
          "output_type": "stream",
          "name": "stdout",
          "text": [
            "Hi, Welcome to hospital:Patient1\n",
            "Age: 12\n",
            "Gender: Female\n",
            "Hi, Welcome to hospital:Patient2\n",
            "Age: 50\n",
            "Gender: Male\n",
            "Subtraction of 2 and 1 is: 1\n",
            "Subtraction of 2 with default is : -8\n"
          ]
        }
      ]
    },
    {
      "cell_type": "code",
      "source": [
        "def check_odd_even(list_age):\n",
        "      list_age_odd = []\n",
        "      list_age_even = []\n",
        "      for i in list_age:\n",
        "         if i%2 == 0:\n",
        "           list_age_even.append(i)\n",
        "         else:\n",
        "          list_age_odd.append(i)\n",
        "      return list_age_even,list_age_odd\n",
        "\n",
        "list_sample = [1,2,3,4,5]\n",
        "list_sample_even,list_sample_odd = check_odd_even(list_sample)\n",
        "print(\"Even Numbers in the list are\",list_sample_even)\n",
        "print(\"Odd Numbers in the list are\",list_sample_odd)"
      ],
      "metadata": {
        "colab": {
          "base_uri": "https://localhost:8080/"
        },
        "id": "QawWBSeLcBVk",
        "outputId": "10a10194-7c66-4f00-c0db-ae14596a80dc"
      },
      "execution_count": null,
      "outputs": [
        {
          "output_type": "stream",
          "name": "stdout",
          "text": [
            "Even Numbers in the list are [2, 4]\n",
            "Odd Numbers in the list are [1, 3, 5]\n"
          ]
        }
      ]
    },
    {
      "cell_type": "code",
      "source": [
        "# Defining a class\n",
        "class Car:\n",
        "    def __init__(self, brand, color):\n",
        "        self.brand = brand  # Attribute\n",
        "        self.color = color  # Attribute\n",
        "\n",
        "    def start(self):  # Method\n",
        "        print(f\"The {self.color} {self.brand} car has started.\")\n",
        "\n",
        "# Creating objects\n",
        "car1 = Car(\"Toyota\", \"Red\")\n",
        "car2 = Car(\"Honda\", \"Blue\")\n",
        "\n",
        "# Accessing attributes and methods\n",
        "print(car1.brand)  # Output: Toyota\n",
        "car1.start()       # Output: The Red Toyota car has started.\n",
        "\n",
        "print(car2.color)  # Output: Blue\n",
        "car2.start()       # Output: The Blue Honda car has started.\n"
      ],
      "metadata": {
        "colab": {
          "base_uri": "https://localhost:8080/"
        },
        "id": "yWU6TgW0cGec",
        "outputId": "91273f7c-0a2b-40cc-e20d-2e0b66e08ec8"
      },
      "execution_count": null,
      "outputs": [
        {
          "output_type": "stream",
          "name": "stdout",
          "text": [
            "Toyota\n",
            "The Red Toyota car has started.\n",
            "Blue\n",
            "The Blue Honda car has started.\n"
          ]
        }
      ]
    },
    {
      "cell_type": "code",
      "source": [
        "class Calculator:\n",
        "    def __init__(self):\n",
        "        print(\"Welcome to the Calculator!\")\n",
        "\n",
        "    def add(self, a, b):\n",
        "        return a + b\n",
        "\n",
        "    def subtract(self, a, b):\n",
        "        return a - b\n",
        "\n",
        "    def multiply(self, a, b):\n",
        "        return a * b\n",
        "\n",
        "    def divide(self, a, b):\n",
        "        if b != 0:\n",
        "            return a / b\n",
        "        else:\n",
        "            return \"Error: Division by zero is not allowed.\"\n",
        "\n",
        "# Example usage\n",
        "calc = Calculator()\n",
        "\n",
        "# Perform operations\n",
        "num1 = 10\n",
        "num2 = 5\n",
        "\n",
        "print(f\"Addition: {calc.add(num1, num2)}\")          # Output: 15\n",
        "print(f\"Subtraction: {calc.subtract(num1, num2)}\")  # Output: 5\n",
        "print(f\"Multiplication: {calc.multiply(num1, num2)}\") # Output: 50\n",
        "print(f\"Division: {calc.divide(num1, num2)}\")       # Output: 2.0\n",
        "print(f\"Division by zero: {calc.divide(num1, 0)}\")  # Output: Error: Division by zero is not allowed.\n"
      ],
      "metadata": {
        "colab": {
          "base_uri": "https://localhost:8080/"
        },
        "id": "bXvpORPRcLg3",
        "outputId": "e370375c-34e0-4c04-a0bf-c03f88d81176"
      },
      "execution_count": null,
      "outputs": [
        {
          "output_type": "stream",
          "name": "stdout",
          "text": [
            "Welcome to the Calculator!\n",
            "Addition: 15\n",
            "Subtraction: 5\n",
            "Multiplication: 50\n",
            "Division: 2.0\n",
            "Division by zero: Error: Division by zero is not allowed.\n"
          ]
        }
      ]
    },
    {
      "cell_type": "code",
      "source": [
        "import numpy as np"
      ],
      "metadata": {
        "id": "IoFJWEQAcWSa"
      },
      "execution_count": null,
      "outputs": []
    },
    {
      "cell_type": "code",
      "source": [
        "# Syntax\n",
        "# np_arr = np.array([])\n",
        "\n",
        "\n",
        "np_arr = np.array([1,2,3])\n",
        "\n",
        "print(\"The numpy array is:\",np_arr)\n",
        "\n",
        "#Length\n",
        "print(\"The length numpy array is:\",len(np_arr))\n",
        "\n",
        "# Access\n",
        "print(\"The second element of numpy array is:\",(np_arr[1]))\n",
        "\n",
        "# Add a number to array\n",
        "print(\"The resultant of 5 added to the numpy array is:\",(np_arr + 5))\n",
        "\n",
        "# Add all elements\n",
        "print(\"The addition of all elements in numpy array is:\",np.sum(np_arr))\n",
        "\n",
        "# Min of all elements\n",
        "print(\"The minimum of all elements in numpy array is:\",np.min(np_arr))\n",
        "\n",
        "# Mean\n",
        "print(f\"Mean of array is: {np.mean(np_arr)} and Std. deviation of the array is :{np.std(np_arr)}\")\n",
        "\n",
        "# Shape\n",
        "print(\"Shape of the array is:\", np_arr.shape)\n",
        "\n",
        "# Filter\n",
        "np_arr1 = np_arr[np_arr>1]\n",
        "print(\"Array Elements greater than 1 are:\", np_arr1)\n",
        "\n",
        "np_arr1 = np_arr[(np_arr>1) & (np_arr<3)]\n",
        "print(\"Array Elements greater than 1 and less than 3 are:\", np_arr1)\n",
        "\n",
        "# Sort\n",
        "\n",
        "np_asc = np.sort(np_arr)\n",
        "np_desc = np.sort(np_arr)[::-1]\n",
        "\n",
        "print(\"Ascending Sort of the array is:\", np_asc)\n",
        "print(\"Descending Sort of the array is:\", np_desc)\n"
      ],
      "metadata": {
        "colab": {
          "base_uri": "https://localhost:8080/"
        },
        "id": "dKqVyEUXcPas",
        "outputId": "f3f657d8-ef46-4c24-a612-9233e69098e9"
      },
      "execution_count": null,
      "outputs": [
        {
          "output_type": "stream",
          "name": "stdout",
          "text": [
            "The numpy array is: [1 2 3]\n",
            "The length numpy array is: 3\n",
            "The second element of numpy array is: 2\n",
            "The resultant of 5 added to the numpy array is: [6 7 8]\n",
            "The addition of all elements in numpy array is: 6\n",
            "The minimum of all elements in numpy array is: 1\n",
            "Mean of array is: 2.0 and Std. deviation of the array is :0.816496580927726\n",
            "Shape of the array is: (3,)\n",
            "Array Elements greater than 1 are: [2 3]\n",
            "Array Elements greater than 1 and less than 3 are: [2]\n",
            "Ascending Sort of the array is: [1 2 3]\n",
            "Descending Sort of the array is: [3 2 1]\n"
          ]
        }
      ]
    },
    {
      "cell_type": "code",
      "source": [],
      "metadata": {
        "id": "3frBxCiRcUD_"
      },
      "execution_count": null,
      "outputs": []
    }
  ]
}